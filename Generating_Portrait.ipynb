pip install tensorflow==2.8.0rc0
!nvidia-smi
from google.colab import drive
drive.mount('/content/drive')
%cd "/content/drive/My Drive/archive/Images"
!mkdir colab-sg2-ada
%cd colab-sg2-ada
!git clone https://github.com/rosinality/stylegan2-pytorch.git
cd '/content/drive/My Drive/archive/Images/colab-sg2-ada/stylegan2-ada-pytorch'
pip install opensimplex
#Uninstall new JAX
!pip uninstall jax jaxlib -y
#GPU frontend
!pip install "jax[cuda11_cudnn805]==0.3.10" -f https://storage.googleapis.com/jax-releases/jax_cuda_releases.html
#CPU frontend
#!pip install jax[cpu]==0.3.10
#Downgrade Pytorch
!pip uninstall torch torchvision -y
!pip install torch==1.9.0+cu111 torchvision==0.10.0+cu111 -f https://download.pytorch.org/whl/torch_stable.html
!pip install timm==0.4.12 ftfy==6.1.1 ninja==1.10.2 opensimplex
!python generate.py --help
!python generate.py generate-images --network='/content/drive/My Drive/archive/Images/Results/Final/network-snapshot-000180.pkl'
!python generate.py --outdir='/content/drive/My Drive/archive/Images/Results/Final/' --trunc=0.8 --seeds=0000 --network='/content/drive/My Drive/archive/Images/Results/Final/finalTL.pkl'
